{
 "cells": [
  {
   "cell_type": "code",
   "execution_count": 1,
   "metadata": {},
   "outputs": [],
   "source": [
    "import pandas as pd\n",
    "import numpy as np"
   ]
  },
  {
   "cell_type": "code",
   "execution_count": 2,
   "metadata": {},
   "outputs": [],
   "source": [
    "def buscar_dados(path):\n",
    "    return pd.read_csv(path + '\\healthcare-dataset-stroke-data.csv')"
   ]
  },
  {
   "cell_type": "code",
   "execution_count": null,
   "metadata": {},
   "outputs": [],
   "source": [
    "base.drop(columns='id', inplace=True)  # removi colouna id"
   ]
  },
  {
   "cell_type": "code",
   "execution_count": null,
   "metadata": {},
   "outputs": [],
   "source": [
    "# função que retorna o índice bmi para um valor de idade\n",
    "def median(df, age):\n",
    "    if age <= 1:\n",
    "        return df.loc[(df.age < 1)].bmi.mean()\n",
    "    elif age > 1 and age <=17:\n",
    "        return df.loc[(df.age > 1) & (df.age <= 17)].bmi.mean()\n",
    "    elif age >= 18 and age < 30:\n",
    "        return df.loc[(df.age >= 18) & (df.age < 30)].bmi.mean()\n",
    "    elif age >= 30 and age < 45:\n",
    "        return df.loc[(df.age >= 30) & (df.age < 45)].bmi.mean()\n",
    "    elif age >= 45 and age < 65:\n",
    "        return df.loc[(df.age >= 45) & (df.age < 65)].bmi.mean()\n",
    "    elif age >= 65:\n",
    "        return df.loc[df.age >= 65].bmi.mean()\n",
    "\n",
    "# lista com o valor bmi para todas as entradas na coluna age\n",
    "new_bmi = [median(base, age) for age in base.age]\n",
    "\n",
    "# data frame com a coluna bmi substituída pelos valores novos somente onde tem NaN\n",
    "base.bmi = base.bmi.where(base.bmi.notna(), new_bmi)"
   ]
  },
  {
   "cell_type": "code",
   "execution_count": null,
   "metadata": {},
   "outputs": [],
   "source": [
    "# dividi entre previsores e classe\n",
    "previsores = base.iloc[:, 0:10].values\n",
    "classe = base.iloc[:, 10].values"
   ]
  },
  {
   "cell_type": "code",
   "execution_count": null,
   "metadata": {},
   "outputs": [],
   "source": [
    "from sklearn.preprocessing import LabelEncoder\n",
    "# organizar os atributos categoricos\n",
    "label_encoder_previsores = LabelEncoder()\n",
    "previsores[:, 4] = label_encoder_previsores.fit_transform(previsores[:,4])\n",
    "previsores[:, 5] = label_encoder_previsores.fit_transform(previsores[:,5])\n",
    "previsores[:, 6] = label_encoder_previsores.fit_transform(previsores[:,6])\n",
    "previsores[:, 9] = label_encoder_previsores.fit_transform(previsores[:,9])\n",
    "previsores[:, 0] = label_encoder_previsores.fit_transform(previsores[:,0])"
   ]
  },
  {
   "cell_type": "code",
   "execution_count": null,
   "metadata": {},
   "outputs": [],
   "source": [
    "# ESCALONAMENTO DE ATRIBUTOS. PRESTAR ATENÇÃO EM SEUS ATRIBUTOS.\n",
    "from sklearn.preprocessing import StandardScaler\n",
    "standardscaler = StandardScaler()\n",
    "previsores = standardscaler.fit_transform(previsores)"
   ]
  },
  {
   "cell_type": "code",
   "execution_count": null,
   "metadata": {},
   "outputs": [],
   "source": [
    "from sklearn.model_selection import train_test_split\n",
    "previsores_treinamento, previsores_teste, classe_treinamento, classe_teste = train_test_split(previsores, classe, test_size=0.15, random_state=0)"
   ]
  },
  {
   "cell_type": "code",
   "execution_count": null,
   "metadata": {},
   "outputs": [],
   "source": []
  },
  {
   "cell_type": "code",
   "execution_count": null,
   "metadata": {},
   "outputs": [],
   "source": []
  },
  {
   "cell_type": "code",
   "execution_count": null,
   "metadata": {},
   "outputs": [],
   "source": []
  },
  {
   "cell_type": "code",
   "execution_count": null,
   "metadata": {},
   "outputs": [],
   "source": [
    "from sklearn.metrics import confusion_matrix, accuracy_score\n",
    "precisao = accuracy_score(classe_teste, previsoes)\n",
    "# É FEITO A MATRIZ CONFUSA, ONDE PODEMOS VER OS ACERTOS E ERROS\n",
    "matriz = confusion_matrix(classe_teste, previsoes)"
   ]
  },
  {
   "cell_type": "code",
   "execution_count": null,
   "metadata": {},
   "outputs": [],
   "source": []
  },
  {
   "cell_type": "code",
   "execution_count": null,
   "metadata": {},
   "outputs": [],
   "source": []
  },
  {
   "cell_type": "code",
   "execution_count": null,
   "metadata": {},
   "outputs": [],
   "source": []
  },
  {
   "cell_type": "code",
   "execution_count": null,
   "metadata": {},
   "outputs": [],
   "source": []
  },
  {
   "cell_type": "code",
   "execution_count": null,
   "metadata": {},
   "outputs": [],
   "source": []
  }
 ],
 "metadata": {
  "kernelspec": {
   "display_name": "Python 3",
   "language": "python",
   "name": "python3"
  },
  "language_info": {
   "codemirror_mode": {
    "name": "ipython",
    "version": 3
   },
   "file_extension": ".py",
   "mimetype": "text/x-python",
   "name": "python",
   "nbconvert_exporter": "python",
   "pygments_lexer": "ipython3",
   "version": "3.8.8"
  }
 },
 "nbformat": 4,
 "nbformat_minor": 4
}
